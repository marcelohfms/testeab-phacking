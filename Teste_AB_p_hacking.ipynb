{
  "nbformat": 4,
  "nbformat_minor": 0,
  "metadata": {
    "colab": {
      "provenance": []
    },
    "kernelspec": {
      "name": "python3",
      "display_name": "Python 3"
    },
    "language_info": {
      "name": "python"
    }
  },
  "cells": [
    {
      "cell_type": "code",
      "execution_count": null,
      "metadata": {
        "id": "Lw3DJhhM9Ccw"
      },
      "outputs": [],
      "source": [
        "import numpy as np\n",
        "from statsmodels.stats.proportion import proportions_ztest"
      ]
    },
    {
      "cell_type": "code",
      "source": [
        "def coin_toss():\n",
        "    return 'heads' if np.random.rand() > 0.5 else 'tails'"
      ],
      "metadata": {
        "id": "lPtDdvlQ9GQa"
      },
      "execution_count": null,
      "outputs": []
    },
    {
      "cell_type": "code",
      "source": [
        "def testar_proporcao(n_jogadas, n_heads, p0, alpha, verbose = False):\n",
        "  z_stat, p_value = proportions_ztest(count = n_heads, nobs = n_jogadas, value = p0, alternative = 'two-sided')\n",
        "  if verbose:\n",
        "    print(f'Número de jogadas: {n_jogadas}')\n",
        "    print(f'Número de caras: {n_heads}')\n",
        "    print(f'Proporção: {(100*n_heads/n_jogadas):.2f}%')\n",
        "    print(f\"P-value: {p_value:.4f}\")\n",
        "  return 'Rejeitamos a hipótese nula' if p_value < alpha else 'Não rejeitamos a hipótese nula'"
      ],
      "metadata": {
        "id": "PORxFVur_epP"
      },
      "execution_count": null,
      "outputs": []
    },
    {
      "cell_type": "code",
      "source": [
        "def experimento(n_moedas, n_paradas=0, p0=0.5, alpha=0.05, verbose = False):\n",
        "    resultados = []\n",
        "    jogadas_antes_da_parada = n_moedas // (n_paradas + 1)\n",
        "    rejeita_hipotese_nula = False\n",
        "\n",
        "    for n in range(1, n_moedas + 1):\n",
        "        resultados.append(coin_toss())\n",
        "\n",
        "        if n % jogadas_antes_da_parada == 0:\n",
        "            n_heads = resultados.count('heads')\n",
        "            decisao = testar_proporcao(n_jogadas=n, n_heads=n_heads, p0=p0, alpha=alpha, verbose = verbose)\n",
        "            if decisao == 'Rejeitamos a hipótese nula':\n",
        "                rejeita_hipotese_nula = True\n",
        "\n",
        "    if rejeita_hipotese_nula:\n",
        "        if verbose:\n",
        "          print('Há significância estatística. Rejeitamos a hipótese nula.')\n",
        "        return True\n",
        "    else:\n",
        "        if verbose:\n",
        "          print('Sem significância estatística. Não rejeitamos a hipótese nula.')\n",
        "        return False"
      ],
      "metadata": {
        "id": "oNUQ1ono9Qe9"
      },
      "execution_count": null,
      "outputs": []
    },
    {
      "cell_type": "code",
      "source": [
        "experimento(n_moedas = 1000, n_paradas = 0, verbose = True)"
      ],
      "metadata": {
        "colab": {
          "base_uri": "https://localhost:8080/"
        },
        "id": "Azl2WlMFA920",
        "outputId": "efe59841-713d-4717-d3a9-0b032da646dc"
      },
      "execution_count": null,
      "outputs": [
        {
          "output_type": "stream",
          "name": "stdout",
          "text": [
            "Número de jogadas: 1000\n",
            "Número de caras: 486\n",
            "Proporção: 48.60%\n",
            "P-value: 0.3757\n",
            "Sem significância estatística. Não rejeitamos a hipótese nula.\n"
          ]
        },
        {
          "output_type": "execute_result",
          "data": {
            "text/plain": [
              "False"
            ]
          },
          "metadata": {},
          "execution_count": 141
        }
      ]
    },
    {
      "cell_type": "code",
      "source": [
        "def multiplos_experimentos(n_experimentos, n_moedas, n_paradas=0, p0=0.5, alpha=0.05):\n",
        "    resultados = []\n",
        "\n",
        "    for _ in range(n_experimentos):\n",
        "        resultado = experimento(n_moedas, n_paradas, p0, alpha, verbose = False)\n",
        "        resultados.append(resultado)\n",
        "\n",
        "    percentual_rejeicao = (sum(resultados) / n_experimentos) * 100\n",
        "    print(f\"Percentual de experimentos que rejeitaram a hipótese nula: {percentual_rejeicao:.2f}%\")"
      ],
      "metadata": {
        "id": "igMlh4qq9TQ-"
      },
      "execution_count": null,
      "outputs": []
    },
    {
      "cell_type": "code",
      "source": [
        "multiplos_experimentos(n_experimentos = 1000, n_moedas = 1000, n_paradas=0)"
      ],
      "metadata": {
        "colab": {
          "base_uri": "https://localhost:8080/"
        },
        "id": "P4OKJObT9lPl",
        "outputId": "a3e02814-8c24-4ea8-e606-86e4c962ee3a"
      },
      "execution_count": null,
      "outputs": [
        {
          "output_type": "stream",
          "name": "stdout",
          "text": [
            "Percentual de experimentos que rejeitaram a hipótese nula: 5.20%\n"
          ]
        }
      ]
    },
    {
      "cell_type": "code",
      "source": [
        "multiplos_experimentos(n_experimentos = 1000, n_moedas = 1000, n_paradas=1)"
      ],
      "metadata": {
        "colab": {
          "base_uri": "https://localhost:8080/"
        },
        "id": "xz_mLrjZFmsQ",
        "outputId": "e7d349a3-5e0e-41b1-eef4-34d41b3e3c43"
      },
      "execution_count": null,
      "outputs": [
        {
          "output_type": "stream",
          "name": "stdout",
          "text": [
            "Percentual de experimentos que rejeitaram a hipótese nula: 8.00%\n"
          ]
        }
      ]
    },
    {
      "cell_type": "code",
      "source": [
        "multiplos_experimentos(n_experimentos = 1000, n_moedas = 1000, n_paradas=3)"
      ],
      "metadata": {
        "colab": {
          "base_uri": "https://localhost:8080/"
        },
        "id": "U7T8uy4sHfZc",
        "outputId": "b5d62a49-174a-4457-bb60-2d43681a8f28"
      },
      "execution_count": null,
      "outputs": [
        {
          "output_type": "stream",
          "name": "stdout",
          "text": [
            "Percentual de experimentos que rejeitaram a hipótese nula: 14.10%\n"
          ]
        }
      ]
    },
    {
      "cell_type": "code",
      "source": [
        "multiplos_experimentos(n_experimentos = 1000, n_moedas = 1000, n_paradas=5)"
      ],
      "metadata": {
        "colab": {
          "base_uri": "https://localhost:8080/"
        },
        "id": "DmJaHzZHHgpw",
        "outputId": "6d3e3abd-2f0b-461e-a735-a9015786701e"
      },
      "execution_count": null,
      "outputs": [
        {
          "output_type": "stream",
          "name": "stdout",
          "text": [
            "Percentual de experimentos que rejeitaram a hipótese nula: 16.10%\n"
          ]
        }
      ]
    },
    {
      "cell_type": "code",
      "source": [],
      "metadata": {
        "id": "WK8G6QCfHnCF"
      },
      "execution_count": null,
      "outputs": []
    }
  ]
}